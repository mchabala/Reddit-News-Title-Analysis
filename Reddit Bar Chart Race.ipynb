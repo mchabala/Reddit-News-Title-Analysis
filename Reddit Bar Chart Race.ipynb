{
 "cells": [
  {
   "cell_type": "markdown",
   "metadata": {},
   "source": [
    "## Reddit Bar Chart Race"
   ]
  },
  {
   "cell_type": "code",
   "execution_count": 16,
   "metadata": {},
   "outputs": [],
   "source": [
    "from psaw import PushshiftAPI\n",
    "from collections import Counter\n",
    "from datetime import timedelta, date\n",
    "import datetime as dt\n",
    "import pandas as pd\n",
    "import bar_chart_race as bcr\n",
    "from IPython.display import HTML\n",
    "\n",
    "api = PushshiftAPI()\n",
    "stopWords = ['to', 'the', 'a', 'to', 'is', 'and', 'in', 'of', 'that', 'it', 'be','at', 'this', 'are', 'be', 'for', 'will', \n",
    "             'with', 'have','on', 'by', '|', 'was', 'has', 'after', 'A', 'as', 'from', 'over', 'who', 'says', 'its',\"it's\"\n",
    "            'how', 'his', 'her', 'de', '14:', 'vs', 'new', '-', '–', ':', '85', '$', 'us', 'man', 'not', 'you', 'he', 'up', \n",
    "            'more', 'out', 'news', 'you', '@rokambola', 'about','first', 'amid', 'an', 'coronavirus:', 'how', 'your', 'than', \n",
    "             'what', 'edited:', 'post', 'all', 'against', 'during', '2020', '(lans)', 'we', 'but'] #words to exclude \n",
    "#Title words must contain these letters. Words with characters of other languages are excluded\n",
    "alphabet = ['a','b','c','d','e','f','g','h','i','j','k','l','m','n','o','p','q','r','s','t','u','v','w','x','y','z']"
   ]
  },
  {
   "cell_type": "markdown",
   "metadata": {},
   "source": [
    "### Defining time parameters"
   ]
  },
  {
   "cell_type": "code",
   "execution_count": 3,
   "metadata": {},
   "outputs": [],
   "source": [
    "StartDate = date(2020, 1, 1)   # start date\n",
    "EndDate = date(2020, 12, 8)   # end date\n",
    "delta = EndDate - StartDate       # as timedelta\n",
    "\n",
    "dates = []\n",
    "for i in range(0,delta.days):\n",
    "    day = StartDate + timedelta(days=i)\n",
    "    dates.append((day.strftime(\"%m-%d-%Y\")))"
   ]
  },
  {
   "cell_type": "markdown",
   "metadata": {},
   "source": [
    "### Web scraping and sorting"
   ]
  },
  {
   "cell_type": "code",
   "execution_count": 5,
   "metadata": {},
   "outputs": [],
   "source": [
    "def TitleScrape(numdays):\n",
    "    big_results = []\n",
    "    start_epoch=(dt.datetime(2020,12,10)- dt.timedelta(days=numdays+1))   \n",
    "    end_epoch=(dt.datetime(2020,12,8)- dt.timedelta(days=numdays))      \n",
    "    results = list(api.search_submissions(after=start_epoch, before=end_epoch, subreddit='news', filter=['title'], limit=1000))\n",
    "    for i in range(len(results)):\n",
    "        slicedWords = results[i].title.split()\n",
    "        for j in slicedWords:\n",
    "            if j.lower() not in stopWords and j.lower()[0] in alphabet:\n",
    "                big_results.append(j.title())   #append word with capitlaized first letter if word not in stopwords\n",
    "    return big_results"
   ]
  },
  {
   "cell_type": "code",
   "execution_count": 6,
   "metadata": {},
   "outputs": [],
   "source": [
    "AllResults = []\n",
    "for i in range(len(dates)):    #specifcy how many days ago you want scrape to start\n",
    "    freqDist = Counter(TitleScrape(i))\n",
    "    for k,v in list(freqDist.items()):\n",
    "        if v<3:\n",
    "            del freqDist[k]   \n",
    "    AllResults.append(freqDist)"
   ]
  },
  {
   "cell_type": "markdown",
   "metadata": {},
   "source": [
    "### Creating bar chart race where bars are total word sums"
   ]
  },
  {
   "cell_type": "code",
   "execution_count": 8,
   "metadata": {
    "scrolled": true
   },
   "outputs": [],
   "source": [
    "df = pd.DataFrame([AllResults[i] for i in range(len(AllResults))], dtype=object).fillna(0).astype(int)\n",
    "df = df.iloc[::-1]  \n",
    "df = df.cumsum()\n",
    "df.insert(loc=0, column='Day Column', value=dates)\n",
    "df = df.set_index('Day Column')"
   ]
  },
  {
   "cell_type": "code",
   "execution_count": null,
   "metadata": {},
   "outputs": [],
   "source": [
    "bcr.bar_chart_race(df=df, filename='news_days_vis5.mp4', title = \"Cumulative Word Appearances in 2020 r/news Titles\", n_bars=10, steps_per_period=10, period_length=400)"
   ]
  },
  {
   "cell_type": "markdown",
   "metadata": {},
   "source": [
    "### Creating bar chart race where bars are 75-day moving sums"
   ]
  },
  {
   "cell_type": "code",
   "execution_count": 12,
   "metadata": {},
   "outputs": [],
   "source": [
    "dfRolling = pd.DataFrame([AllResults[i] for i in range(len(AllResults))], dtype=object).fillna(0).astype(int)\n",
    "dfRolling = dfRolling.iloc[::-1]\n",
    "dfRolling = dfRolling.rolling(min_periods=1, window=75).sum()\n",
    "dfRolling.insert(loc=0, column='Day Column', value=dates)\n",
    "dfRolling = dfRolling.set_index('Day Column')"
   ]
  },
  {
   "cell_type": "code",
   "execution_count": null,
   "metadata": {},
   "outputs": [],
   "source": [
    "bcr.bar_chart_race(df=dfRolling, filename='news_rolling3.mp4', title = \"Moving Total of Word Appearances in 2020 r/news Titles\", n_bars=10, steps_per_period=10, period_length=400)"
   ]
  },
  {
   "cell_type": "markdown",
   "metadata": {},
   "source": [
    "link to video: https://www.youtube.com/watch?v=MkMVSotK8mk"
   ]
  }
 ],
 "metadata": {
  "kernelspec": {
   "display_name": "Python 3",
   "language": "python",
   "name": "python3"
  },
  "language_info": {
   "codemirror_mode": {
    "name": "ipython",
    "version": 3
   },
   "file_extension": ".py",
   "mimetype": "text/x-python",
   "name": "python",
   "nbconvert_exporter": "python",
   "pygments_lexer": "ipython3",
   "version": "3.8.3"
  }
 },
 "nbformat": 4,
 "nbformat_minor": 4
}
